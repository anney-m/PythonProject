{
  "nbformat": 4,
  "nbformat_minor": 0,
  "metadata": {
    "colab": {
      "provenance": []
    },
    "kernelspec": {
      "name": "python3",
      "display_name": "Python 3"
    },
    "language_info": {
      "name": "python"
    }
  },
  "cells": [
    {
      "cell_type": "code",
      "execution_count": 12,
      "metadata": {
        "id": "4-Q_5oGKhSTn"
      },
      "outputs": [],
      "source": [
        "import pandas as pd\n",
        "\n",
        "\n",
        "first_forum = pd.read_excel('reviews_data.xlsx')\n",
        "second_forum = pd.read_excel('second_forum.xlsx')\n",
        "\n",
        "keywords = ['тренер', 'бассейн', 'музыка', 'групповые', 'запах', 'цена', 'качество']\n",
        "\n",
        "def filter_comments(comments, keywords):\n",
        "    filtered_comments = []\n",
        "    for comment in comments:\n",
        "        message_lower = str(comment).lower()\n",
        "        for keyword in keywords:\n",
        "            if keyword in message_lower:\n",
        "                filtered_comments.append(comment)\n",
        "                break\n",
        "    return filtered_comments\n",
        "\n",
        "first_forum_filtered = filter_comments(first_forum['review'], keywords)\n",
        "second_forum_filtered = filter_comments(second_forum['comment'], keywords)\n",
        "all_filtered_messages = first_forum_filtered + second_forum_filtered\n",
        "filtered_df = pd.DataFrame(all_filtered_messages, columns=['Ответы с форумов'])\n",
        "filtered_df.to_excel('filtered_comments.xlsx', index=False)"
      ]
    }
  ]
}